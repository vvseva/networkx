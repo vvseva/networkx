{
 "cells": [
  {
   "cell_type": "markdown",
   "metadata": {},
   "source": [
    "# INFO115 The Social Web. Individual assignment \n",
    "__Vsevolod Suschevskiy 285801__\n",
    "## I Recommendations. 25 points."
   ]
  },
  {
   "cell_type": "markdown",
   "metadata": {},
   "source": [
    "### (a) Create an item feature matrix"
   ]
  },
  {
   "cell_type": "code",
   "execution_count": 2,
   "metadata": {},
   "outputs": [
    {
     "data": {
      "text/html": [
       "<div>\n",
       "<style scoped>\n",
       "    .dataframe tbody tr th:only-of-type {\n",
       "        vertical-align: middle;\n",
       "    }\n",
       "\n",
       "    .dataframe tbody tr th {\n",
       "        vertical-align: top;\n",
       "    }\n",
       "\n",
       "    .dataframe thead th {\n",
       "        text-align: right;\n",
       "    }\n",
       "</style>\n",
       "<table border=\"1\" class=\"dataframe\">\n",
       "  <thead>\n",
       "    <tr style=\"text-align: right;\">\n",
       "      <th></th>\n",
       "      <th>F1</th>\n",
       "      <th>F2</th>\n",
       "      <th>F3</th>\n",
       "      <th>F4</th>\n",
       "      <th>F5</th>\n",
       "    </tr>\n",
       "  </thead>\n",
       "  <tbody>\n",
       "    <tr>\n",
       "      <th>A1</th>\n",
       "      <td>1</td>\n",
       "      <td>1</td>\n",
       "      <td>0</td>\n",
       "      <td>0</td>\n",
       "      <td>0</td>\n",
       "    </tr>\n",
       "    <tr>\n",
       "      <th>A2</th>\n",
       "      <td>1</td>\n",
       "      <td>0</td>\n",
       "      <td>0</td>\n",
       "      <td>1</td>\n",
       "      <td>0</td>\n",
       "    </tr>\n",
       "    <tr>\n",
       "      <th>A3</th>\n",
       "      <td>0</td>\n",
       "      <td>0</td>\n",
       "      <td>1</td>\n",
       "      <td>1</td>\n",
       "      <td>0</td>\n",
       "    </tr>\n",
       "    <tr>\n",
       "      <th>A4</th>\n",
       "      <td>0</td>\n",
       "      <td>1</td>\n",
       "      <td>1</td>\n",
       "      <td>0</td>\n",
       "      <td>0</td>\n",
       "    </tr>\n",
       "    <tr>\n",
       "      <th>A5</th>\n",
       "      <td>0</td>\n",
       "      <td>0</td>\n",
       "      <td>0</td>\n",
       "      <td>1</td>\n",
       "      <td>1</td>\n",
       "    </tr>\n",
       "  </tbody>\n",
       "</table>\n",
       "</div>"
      ],
      "text/plain": [
       "    F1  F2  F3  F4  F5\n",
       "A1   1   1   0   0   0\n",
       "A2   1   0   0   1   0\n",
       "A3   0   0   1   1   0\n",
       "A4   0   1   1   0   0\n",
       "A5   0   0   0   1   1"
      ]
     },
     "execution_count": 2,
     "metadata": {},
     "output_type": "execute_result"
    }
   ],
   "source": [
    "# Import pandas library \n",
    "import pandas as pd \n",
    "# initialise data of lists. \n",
    "data = {'F1':[1, 1, 0, 0, 0], 'F2':[1, 0, 0, 1, 0], 'F3':[0, 0, 1, 1, 0], 'F4':[0, 1, 1, 0, 1], 'F5':[0, 0, 0, 0, 1]} \n",
    "  \n",
    "# Creates pandas DataFrame. \n",
    "df = pd.DataFrame(data, index =['A1', 'A2', 'A3', 'A4', 'A5']) \n",
    "  \n",
    "df1= df   \n",
    "# print the data \n",
    "df "
   ]
  },
  {
   "cell_type": "markdown",
   "metadata": {},
   "source": [
    "### (b) Create a network representation of the matrix in NetworkX"
   ]
  },
  {
   "cell_type": "code",
   "execution_count": 3,
   "metadata": {},
   "outputs": [
    {
     "data": {
      "text/html": [
       "<div>\n",
       "<style scoped>\n",
       "    .dataframe tbody tr th:only-of-type {\n",
       "        vertical-align: middle;\n",
       "    }\n",
       "\n",
       "    .dataframe tbody tr th {\n",
       "        vertical-align: top;\n",
       "    }\n",
       "\n",
       "    .dataframe thead th {\n",
       "        text-align: right;\n",
       "    }\n",
       "</style>\n",
       "<table border=\"1\" class=\"dataframe\">\n",
       "  <thead>\n",
       "    <tr style=\"text-align: right;\">\n",
       "      <th></th>\n",
       "      <th>A1</th>\n",
       "      <th>A2</th>\n",
       "      <th>A3</th>\n",
       "      <th>A4</th>\n",
       "      <th>A5</th>\n",
       "    </tr>\n",
       "  </thead>\n",
       "  <tbody>\n",
       "    <tr>\n",
       "      <th>A1</th>\n",
       "      <td>1</td>\n",
       "      <td>1</td>\n",
       "      <td>0</td>\n",
       "      <td>1</td>\n",
       "      <td>0</td>\n",
       "    </tr>\n",
       "    <tr>\n",
       "      <th>A2</th>\n",
       "      <td>1</td>\n",
       "      <td>1</td>\n",
       "      <td>1</td>\n",
       "      <td>0</td>\n",
       "      <td>1</td>\n",
       "    </tr>\n",
       "    <tr>\n",
       "      <th>A3</th>\n",
       "      <td>0</td>\n",
       "      <td>1</td>\n",
       "      <td>1</td>\n",
       "      <td>1</td>\n",
       "      <td>1</td>\n",
       "    </tr>\n",
       "    <tr>\n",
       "      <th>A4</th>\n",
       "      <td>1</td>\n",
       "      <td>0</td>\n",
       "      <td>1</td>\n",
       "      <td>1</td>\n",
       "      <td>0</td>\n",
       "    </tr>\n",
       "    <tr>\n",
       "      <th>A5</th>\n",
       "      <td>0</td>\n",
       "      <td>1</td>\n",
       "      <td>1</td>\n",
       "      <td>0</td>\n",
       "      <td>1</td>\n",
       "    </tr>\n",
       "  </tbody>\n",
       "</table>\n",
       "</div>"
      ],
      "text/plain": [
       "   A1 A2 A3 A4 A5\n",
       "A1  1  1  0  1  0\n",
       "A2  1  1  1  0  1\n",
       "A3  0  1  1  1  1\n",
       "A4  1  0  1  1  0\n",
       "A5  0  1  1  0  1"
      ]
     },
     "execution_count": 3,
     "metadata": {},
     "output_type": "execute_result"
    }
   ],
   "source": [
    "import numpy as np\n",
    "\n",
    "\n",
    "df.loc[((df.F1 == 1) | (df.F2 == 1)), \"A1\"]  = '1'\n",
    "df.loc[(df.F1 != 1) & (df.F2 != 1), \"A1\"]  = '0'\n",
    "\n",
    "df.loc[((df.F1 == 1) | (df.F4 == 1)), \"A2\"]  = '1'\n",
    "df.loc[(df.F1 != 1) & (df.F4 != 1), \"A2\"]  = '0'\n",
    "\n",
    "df.loc[((df.F4 == 1) | (df.F3 == 1)), \"A3\"]  = '1'\n",
    "df.loc[(df.F4 != 1) & (df.F3 != 1), \"A3\"]  = '0'\n",
    "\n",
    "\n",
    "df.loc[((df.F2 == 1) | (df.F3 == 1)), \"A4\"]  = '1'\n",
    "df.loc[((df.F2 != 1) & (df.F3 != 1)), \"A4\"]  = '0'\n",
    "\n",
    "df.loc[((df.F4 == 1) | (df.F5 == 1)), \"A5\"]  = '1'\n",
    "df.loc[(df.F4 != 1) & (df.F5 != 1), \"A5\"]  = '0'\n",
    "\n",
    "df = df.drop(columns=['F1', 'F2', 'F3', 'F4', 'F5'])\n",
    "\n",
    "df"
   ]
  },
  {
   "cell_type": "code",
   "execution_count": 4,
   "metadata": {},
   "outputs": [],
   "source": [
    "df = df.apply(lambda x: x.astype(str).map(lambda x: int(x, base=16)))"
   ]
  },
  {
   "cell_type": "code",
   "execution_count": 6,
   "metadata": {},
   "outputs": [
    {
     "data": {
      "text/plain": [
       "{('A5', 'A2'): Text(-0.6545084971874742, 0.2938926261462366, 'F4'),\n",
       " ('A5', 'A3'): Text(-0.6545084971874734, -0.29389262614623707, 'F4'),\n",
       " ('A2', 'A3'): Text(-0.30901699437494756, -2.220446049250313e-16, 'F4'),\n",
       " ('A2', 'A1'): Text(0.24999999999999944, 0.7694208842938137, 'F1'),\n",
       " ('A3', 'A4'): Text(0.25000000000000056, -0.7694208842938135, 'F3'),\n",
       " ('A1', 'A4'): Text(0.8090169943749476, 4.440892098500626e-16, 'F2')}"
      ]
     },
     "execution_count": 6,
     "metadata": {},
     "output_type": "execute_result"
    },
    {
     "data": {
      "image/png": "[encoded data removed]",
      "text/plain": [
       "<Figure size 432x288 with 1 Axes>"
      ]
     },
     "metadata": {},
     "output_type": "display_data"
    }
   ],
   "source": [
    "import networkx as nx\n",
    "G = nx.from_pandas_adjacency(df)\n",
    "G.name = 'Actors collaborations'\n",
    "G.remove_edges_from(G.selfloop_edges()) ## loops may exist, better to remove\n",
    "\n",
    "degs = list(nx.degree(G))\n",
    "pos = nx.spectral_layout(G)\n",
    "\n",
    "sizes = []\n",
    "for s in degs:\n",
    "        sizes.append((s[1]+1)**5) ## to see difference\n",
    "\n",
    "nx.draw(G, pos, node_size = sizes, with_labels = True)\n",
    "nx.draw_networkx_edge_labels(G, pos, node_size = sizes, with_labels = True, edge_labels={('A5','A2'):'F4',\n",
    "('A5','A3'):'F4', ('A2','A3'):'F4', ('A2','A1'):'F1', ('A3','A4'):'F3', ('A1', 'A4'):'F2'})"
   ]
  },
  {
   "cell_type": "markdown",
   "metadata": {},
   "source": [
    "Node is actor, link is film, size is degree"
   ]
  },
  {
   "cell_type": "markdown",
   "metadata": {},
   "source": [
    "### (c) Calculate the density and clustering coefficient of the graph.\n",
    "Calculate the density and clustering coefficient of the graph. Find the node with the highest betweenness centrality. Find the two films with the highest Jaccard similarity score. Show the calculations in your report. (5 points)"
   ]
  },
  {
   "cell_type": "code",
   "execution_count": 7,
   "metadata": {},
   "outputs": [
    {
     "data": {
      "text/plain": [
       "0.6"
      ]
     },
     "execution_count": 7,
     "metadata": {},
     "output_type": "execute_result"
    }
   ],
   "source": [
    "nx.density(G)\n",
    "\n",
    "# Graph is not super dence\n",
    "# it misses 3 edges"
   ]
  },
  {
   "cell_type": "markdown",
   "metadata": {},
   "source": [
    "Graph is not super dense\n",
    "it misses 3 edges to be completed "
   ]
  },
  {
   "cell_type": "code",
   "execution_count": 8,
   "metadata": {},
   "outputs": [
    {
     "data": {
      "text/plain": [
       "{'A1': 0,\n",
       " 'A2': 0.3333333333333333,\n",
       " 'A3': 0.3333333333333333,\n",
       " 'A4': 0,\n",
       " 'A5': 1.0}"
      ]
     },
     "execution_count": 8,
     "metadata": {},
     "output_type": "execute_result"
    }
   ],
   "source": [
    "nx.clustering(G)\n"
   ]
  },
  {
   "cell_type": "markdown",
   "metadata": {},
   "source": [
    "Only for Actor 5 there is only 1 triangle possible and only 1 exists\n",
    " for A2 and A3 there are more possible options (1 more), but only 1 exists\n",
    " there is no closed triangles for nodes 1 and 4"
   ]
  },
  {
   "cell_type": "code",
   "execution_count": 9,
   "metadata": {},
   "outputs": [
    {
     "data": {
      "text/plain": [
       "{'A1': 0.08333333333333333,\n",
       " 'A2': 0.25,\n",
       " 'A3': 0.25,\n",
       " 'A4': 0.08333333333333333,\n",
       " 'A5': 0.0}"
      ]
     },
     "execution_count": 9,
     "metadata": {},
     "output_type": "execute_result"
    },
    {
     "data": {
      "image/png": "[encoded data removed]",
      "text/plain": [
       "<Figure size 432x288 with 1 Axes>"
      ]
     },
     "metadata": {},
     "output_type": "display_data"
    }
   ],
   "source": [
    "btws = nx.betweenness_centrality(G)\n",
    "nodes = G.nodes()\n",
    "b_color = np.asarray([btws[n] for n in nodes])\n",
    "\n",
    "nx.draw(G, pos, node_size = (b_color+2)**10, node_color =b_color,  with_labels = True)\n",
    "btws"
   ]
  },
  {
   "cell_type": "markdown",
   "metadata": {},
   "source": [
    "Actors 2 and 3 have the highest betweenness, since they are the shortest bridge between actor 5 and 1 and 4"
   ]
  },
  {
   "cell_type": "code",
   "execution_count": 10,
   "metadata": {},
   "outputs": [
    {
     "name": "stdout",
     "output_type": "stream",
     "text": [
      "A1 A2 0.0\n",
      "A1 A4 0.0\n",
      "A4 A3 0.0\n",
      "A3 A2 0.2\n",
      "A5 A2 0.25\n"
     ]
    }
   ],
   "source": [
    "preds = nx.jaccard_coefficient(G, [('A1', 'A2'),('A1', 'A4'), ('A4', 'A3'), ('A3', 'A2'), ('A5', 'A2')])\n",
    "for u, v, p in preds: \n",
    "    print(u, v, p)"
   ]
  },
  {
   "cell_type": "code",
   "execution_count": 12,
   "metadata": {},
   "outputs": [
    {
     "data": {
      "text/html": [
       "<div>\n",
       "<style scoped>\n",
       "    .dataframe tbody tr th:only-of-type {\n",
       "        vertical-align: middle;\n",
       "    }\n",
       "\n",
       "    .dataframe tbody tr th {\n",
       "        vertical-align: top;\n",
       "    }\n",
       "\n",
       "    .dataframe thead th {\n",
       "        text-align: right;\n",
       "    }\n",
       "</style>\n",
       "<table border=\"1\" class=\"dataframe\">\n",
       "  <thead>\n",
       "    <tr style=\"text-align: right;\">\n",
       "      <th></th>\n",
       "      <th>A1</th>\n",
       "      <th>A2</th>\n",
       "      <th>A3</th>\n",
       "      <th>A4</th>\n",
       "      <th>A5</th>\n",
       "    </tr>\n",
       "  </thead>\n",
       "  <tbody>\n",
       "    <tr>\n",
       "      <th>A1</th>\n",
       "      <td>1</td>\n",
       "      <td>1</td>\n",
       "      <td>0</td>\n",
       "      <td>1</td>\n",
       "      <td>0</td>\n",
       "    </tr>\n",
       "    <tr>\n",
       "      <th>A2</th>\n",
       "      <td>1</td>\n",
       "      <td>1</td>\n",
       "      <td>1</td>\n",
       "      <td>0</td>\n",
       "      <td>1</td>\n",
       "    </tr>\n",
       "    <tr>\n",
       "      <th>A3</th>\n",
       "      <td>0</td>\n",
       "      <td>1</td>\n",
       "      <td>1</td>\n",
       "      <td>1</td>\n",
       "      <td>1</td>\n",
       "    </tr>\n",
       "    <tr>\n",
       "      <th>A4</th>\n",
       "      <td>1</td>\n",
       "      <td>0</td>\n",
       "      <td>1</td>\n",
       "      <td>1</td>\n",
       "      <td>0</td>\n",
       "    </tr>\n",
       "    <tr>\n",
       "      <th>A5</th>\n",
       "      <td>0</td>\n",
       "      <td>1</td>\n",
       "      <td>1</td>\n",
       "      <td>0</td>\n",
       "      <td>1</td>\n",
       "    </tr>\n",
       "  </tbody>\n",
       "</table>\n",
       "</div>"
      ],
      "text/plain": [
       "    A1  A2  A3  A4  A5\n",
       "A1   1   1   0   1   0\n",
       "A2   1   1   1   0   1\n",
       "A3   0   1   1   1   1\n",
       "A4   1   0   1   1   0\n",
       "A5   0   1   1   0   1"
      ]
     },
     "execution_count": 12,
     "metadata": {},
     "output_type": "execute_result"
    }
   ],
   "source": [
    "df"
   ]
  },
  {
   "cell_type": "code",
   "execution_count": 13,
   "metadata": {},
   "outputs": [
    {
     "name": "stdout",
     "output_type": "stream",
     "text": [
      "F1 and F2: 0.3333333333333333 , F1 and F3: 0.0 , F1 and F4: 0.25 , F1 and F5: 0.0 , F2 and F3: 0.3333333333333333 , F2 and F4: 0.0 , F2 and F5: 0.0 , F3 and F4: 0.25 ,F3 and F5: 0.0 ,F4 and F5: 0.3333333333333333\n"
     ]
    }
   ],
   "source": [
    "from sklearn.metrics import jaccard_score\n",
    "print(\"F1 and F2:\",jaccard_score(df1['F1'], df1['F2']),\n",
    "\", F1 and F3:\", jaccard_score(df1['F1'], df1['F3']),\n",
    "\", F1 and F4:\", jaccard_score(df1['F1'], df1['F4']),\n",
    "\", F1 and F5:\", jaccard_score(df1['F1'], df1['F5']),\n",
    "\", F2 and F3:\", jaccard_score(df1['F2'], df1['F3']),\n",
    "\", F2 and F4:\", jaccard_score(df1['F2'], df1['F4']),\n",
    "\", F2 and F5:\", jaccard_score(df1['F2'], df1['F5']),\n",
    "\", F3 and F4:\", jaccard_score(df1['F3'], df1['F4']),\n",
    "\",F3 and F5:\", jaccard_score(df1['F3'], df1['F5']),\n",
    "\",F4 and F5:\", jaccard_score(df1['F4'], df1['F5']))"
   ]
  },
  {
   "cell_type": "markdown",
   "metadata": {},
   "source": [
    "(F1 and F2), and (F4 and F5), and (F2 and F3) are the most simular:\n",
    "in 1 and 2 there are 1 actor in the union (Actor 1) and 3 in the intersection (Actors 1, 2, and 4)\n",
    "same for others with 0.(3)\n",
    "F1 and F4, and F3 and F4 have 1 in the union and 4 in the intersection."
   ]
  },
  {
   "cell_type": "markdown",
   "metadata": {},
   "source": [
    "### (d) Assume that there are 5 users U1...U5 that have rated the four films F1, F2, F3, F4. \n",
    "Furthermore, they have their favorite actors: U1 favors A1, U2 favors A2, U3 favors A3, U4\n",
    "favors A4 and U5 favors A5. Create a utility matrix with 5 rows and 4 columns where the\n",
    "rows are users U1-U5 and the columns are films F1-F4. (Same structure as Illustration 7.4 in\n",
    "The Power of Networks.) The users rate the films on a scale from 0 to 5 based on the\n",
    "following preferences:\n",
    "- the user gives the film ‘5’ if her favorite actor appears in the film\n",
    "- if the user’s favorite actor does not appear in the film, she gives the film a rating\n",
    "corresponding to the number of actors in the film that appear in another film\n",
    "together with the user’s favorite actor. (For example, suppose A1 does not\n",
    "appear in film F1 but actors A3 and A5 do. Because A1 and A3 appear together in\n",
    "film F2 and A1 and A5 appear together in film F4, U1 will give film F1 a score of ‘2’.)\n",
    " Put a depiction of the utility matrix in your report (4 points)\n"
   ]
  },
  {
   "cell_type": "code",
   "execution_count": 14,
   "metadata": {},
   "outputs": [
    {
     "data": {
      "text/html": [
       "<div>\n",
       "<style scoped>\n",
       "    .dataframe tbody tr th:only-of-type {\n",
       "        vertical-align: middle;\n",
       "    }\n",
       "\n",
       "    .dataframe tbody tr th {\n",
       "        vertical-align: top;\n",
       "    }\n",
       "\n",
       "    .dataframe thead th {\n",
       "        text-align: right;\n",
       "    }\n",
       "</style>\n",
       "<table border=\"1\" class=\"dataframe\">\n",
       "  <thead>\n",
       "    <tr style=\"text-align: right;\">\n",
       "      <th></th>\n",
       "      <th>F1</th>\n",
       "      <th>F2</th>\n",
       "      <th>F3</th>\n",
       "      <th>F4</th>\n",
       "    </tr>\n",
       "  </thead>\n",
       "  <tbody>\n",
       "    <tr>\n",
       "      <th>U1</th>\n",
       "      <td>5</td>\n",
       "      <td>5</td>\n",
       "      <td>1</td>\n",
       "      <td>1</td>\n",
       "    </tr>\n",
       "    <tr>\n",
       "      <th>U2</th>\n",
       "      <td>5</td>\n",
       "      <td>1</td>\n",
       "      <td>1</td>\n",
       "      <td>5</td>\n",
       "    </tr>\n",
       "    <tr>\n",
       "      <th>U3</th>\n",
       "      <td>1</td>\n",
       "      <td>1</td>\n",
       "      <td>5</td>\n",
       "      <td>5</td>\n",
       "    </tr>\n",
       "    <tr>\n",
       "      <th>U4</th>\n",
       "      <td>1</td>\n",
       "      <td>5</td>\n",
       "      <td>5</td>\n",
       "      <td>1</td>\n",
       "    </tr>\n",
       "    <tr>\n",
       "      <th>U5</th>\n",
       "      <td>1</td>\n",
       "      <td>0</td>\n",
       "      <td>1</td>\n",
       "      <td>5</td>\n",
       "    </tr>\n",
       "  </tbody>\n",
       "</table>\n",
       "</div>"
      ],
      "text/plain": [
       "    F1  F2  F3  F4\n",
       "U1   5   5   1   1\n",
       "U2   5   1   1   5\n",
       "U3   1   1   5   5\n",
       "U4   1   5   5   1\n",
       "U5   1   0   1   5"
      ]
     },
     "execution_count": 14,
     "metadata": {},
     "output_type": "execute_result"
    }
   ],
   "source": [
    "data = {'F1':[5, 5, 1, 1, 1], 'F2':[5, 1, 1, 5, 0], 'F3':[1, 1, 5, 5, 1], 'F4':[1, 5, 5, 1, 5]} \n",
    "  \n",
    "# Creates pandas DataFrame. \n",
    "df_rat = pd.DataFrame(data, index =['U1', 'U2', 'U3', 'U4', 'U5']) \n",
    "df_rat"
   ]
  },
  {
   "cell_type": "markdown",
   "metadata": {},
   "source": [
    "User U1 have rated movies F1 and F2 with 5 scores, because his favorite actor A1 have participated in both, but he rated F3 only 1, because the only actor that collaborated with A1 and participated in F3 was actor A4, who has participated in movie F2. F4 was rated with a score 1, because A2 played in F1.\n",
    "\n",
    "User U2 have rated movies F1 and F4 with 5 scores, because his favorite actor A2 have participated in both, but he rated F2 only 1, because the only actor that collaborated with A2 and participated in F2 was actor A1, who has participated in movie F1. F3 was rated with a score 1, because A3 played in F4.\n",
    "\n",
    "User U3 have rated movies F3 and F4 with 5 scores, because his favorite actor A3 have participated in both, but he rated F1 only 1, because the only actor that collaborated with A3 and participated in F1 was actor A2, who has participated in movie F4. F2 was rated with a score 1, because A4 played in F3.\n",
    "\n",
    "User U4 have rated movies F2 and F3 with 5 scores, because his favorite actor A4 have participated in both, but he rated F1 only 1, because the only actor that collaborated with A4 and participated in F1 was actor A1, who has participated in movie F2. F4 was rated with a score 1, because A3 played in F3.\n",
    "\n",
    "User U5 have rated movie F3 with 5 scores, because his favorite actor A5 have participated in it, but he rated F1 only 1, because the only actor that collaborated with A5 and participated in F1 was actor A2, who has participated in movie F4. F3 was rated with a score 1, because A3 played in F4. Movie F2 was rated with 0, since there were no actors that participated in F2 and collaborated with A5."
   ]
  },
  {
   "cell_type": "markdown",
   "metadata": {},
   "source": [
    "### (e) Select 5 ratings in the utility matrix you created in d as your test set and use the rest as your training set.\n",
    "Calculate the naïve predictions and the baseline predictions. Calculate and compare the MSEs of the predictors. Explain the calculations in your report. (6 points)"
   ]
  },
  {
   "cell_type": "markdown",
   "metadata": {},
   "source": [
    "Let's take movie F4 as Test, and the rest as train, and transpose matrix to split it with sklearn"
   ]
  },
  {
   "cell_type": "code",
   "execution_count": 15,
   "metadata": {},
   "outputs": [
    {
     "data": {
      "text/html": [
       "<div>\n",
       "<style scoped>\n",
       "    .dataframe tbody tr th:only-of-type {\n",
       "        vertical-align: middle;\n",
       "    }\n",
       "\n",
       "    .dataframe tbody tr th {\n",
       "        vertical-align: top;\n",
       "    }\n",
       "\n",
       "    .dataframe thead th {\n",
       "        text-align: right;\n",
       "    }\n",
       "</style>\n",
       "<table border=\"1\" class=\"dataframe\">\n",
       "  <thead>\n",
       "    <tr style=\"text-align: right;\">\n",
       "      <th></th>\n",
       "      <th>U1</th>\n",
       "      <th>U2</th>\n",
       "      <th>U3</th>\n",
       "      <th>U4</th>\n",
       "      <th>U5</th>\n",
       "    </tr>\n",
       "  </thead>\n",
       "  <tbody>\n",
       "    <tr>\n",
       "      <th>F1</th>\n",
       "      <td>5</td>\n",
       "      <td>5</td>\n",
       "      <td>1</td>\n",
       "      <td>1</td>\n",
       "      <td>1</td>\n",
       "    </tr>\n",
       "    <tr>\n",
       "      <th>F3</th>\n",
       "      <td>1</td>\n",
       "      <td>1</td>\n",
       "      <td>5</td>\n",
       "      <td>5</td>\n",
       "      <td>1</td>\n",
       "    </tr>\n",
       "    <tr>\n",
       "      <th>F2</th>\n",
       "      <td>5</td>\n",
       "      <td>1</td>\n",
       "      <td>1</td>\n",
       "      <td>5</td>\n",
       "      <td>0</td>\n",
       "    </tr>\n",
       "  </tbody>\n",
       "</table>\n",
       "</div>"
      ],
      "text/plain": [
       "    U1  U2  U3  U4  U5\n",
       "F1   5   5   1   1   1\n",
       "F3   1   1   5   5   1\n",
       "F2   5   1   1   5   0"
      ]
     },
     "execution_count": 15,
     "metadata": {},
     "output_type": "execute_result"
    }
   ],
   "source": [
    "#df_rat_test = df_rat.drop(columns=['F1', 'F2', 'F3', 'F4', 'F5'])\n",
    "from sklearn.model_selection import train_test_split\n",
    "\n",
    "df_rat = df_rat.transpose() \n",
    "\n",
    "train, test = train_test_split(df_rat, test_size=0.2, random_state=6920)\n",
    "train"
   ]
  },
  {
   "cell_type": "code",
   "execution_count": 16,
   "metadata": {},
   "outputs": [
    {
     "data": {
      "text/html": [
       "<div>\n",
       "<style scoped>\n",
       "    .dataframe tbody tr th:only-of-type {\n",
       "        vertical-align: middle;\n",
       "    }\n",
       "\n",
       "    .dataframe tbody tr th {\n",
       "        vertical-align: top;\n",
       "    }\n",
       "\n",
       "    .dataframe thead th {\n",
       "        text-align: right;\n",
       "    }\n",
       "</style>\n",
       "<table border=\"1\" class=\"dataframe\">\n",
       "  <thead>\n",
       "    <tr style=\"text-align: right;\">\n",
       "      <th></th>\n",
       "      <th>U1</th>\n",
       "      <th>U2</th>\n",
       "      <th>U3</th>\n",
       "      <th>U4</th>\n",
       "      <th>U5</th>\n",
       "    </tr>\n",
       "  </thead>\n",
       "  <tbody>\n",
       "    <tr>\n",
       "      <th>F4</th>\n",
       "      <td>1</td>\n",
       "      <td>5</td>\n",
       "      <td>5</td>\n",
       "      <td>1</td>\n",
       "      <td>5</td>\n",
       "    </tr>\n",
       "  </tbody>\n",
       "</table>\n",
       "</div>"
      ],
      "text/plain": [
       "    U1  U2  U3  U4  U5\n",
       "F4   1   5   5   1   5"
      ]
     },
     "execution_count": 16,
     "metadata": {},
     "output_type": "execute_result"
    }
   ],
   "source": [
    "test"
   ]
  },
  {
   "cell_type": "markdown",
   "metadata": {},
   "source": [
    "Ok, we predict rating of movie F4, based on other users. We could call it collaboretive filtration, but really low level."
   ]
  },
  {
   "cell_type": "code",
   "execution_count": 17,
   "metadata": {},
   "outputs": [
    {
     "data": {
      "text/html": [
       "<div>\n",
       "<style scoped>\n",
       "    .dataframe tbody tr th:only-of-type {\n",
       "        vertical-align: middle;\n",
       "    }\n",
       "\n",
       "    .dataframe tbody tr th {\n",
       "        vertical-align: top;\n",
       "    }\n",
       "\n",
       "    .dataframe thead th {\n",
       "        text-align: right;\n",
       "    }\n",
       "</style>\n",
       "<table border=\"1\" class=\"dataframe\">\n",
       "  <thead>\n",
       "    <tr style=\"text-align: right;\">\n",
       "      <th></th>\n",
       "      <th>U1</th>\n",
       "      <th>U2</th>\n",
       "      <th>U3</th>\n",
       "      <th>U4</th>\n",
       "      <th>U5</th>\n",
       "    </tr>\n",
       "  </thead>\n",
       "  <tbody>\n",
       "    <tr>\n",
       "      <th>U5</th>\n",
       "      <td>0.666667</td>\n",
       "      <td>0.666667</td>\n",
       "      <td>0.666667</td>\n",
       "      <td>0.666667</td>\n",
       "      <td>0.666667</td>\n",
       "    </tr>\n",
       "  </tbody>\n",
       "</table>\n",
       "</div>"
      ],
      "text/plain": [
       "          U1        U2        U3        U4        U5\n",
       "U5  0.666667  0.666667  0.666667  0.666667  0.666667"
      ]
     },
     "execution_count": 17,
     "metadata": {},
     "output_type": "execute_result"
    }
   ],
   "source": [
    "data = {'U1':train.mean(), 'U2':train.mean(), 'U3':train.mean(), 'U4':train.mean(), 'U5':train.mean()} \n",
    "  \n",
    "# Creates pandas DataFrame. \n",
    "df_rat_pred = pd.DataFrame(data, index =['U5']) \n",
    "df_rat_pred"
   ]
  },
  {
   "cell_type": "markdown",
   "metadata": {},
   "source": [
    "Naive prediction for each movie is just an average value, based on ratings of other users."
   ]
  },
  {
   "cell_type": "code",
   "execution_count": 18,
   "metadata": {},
   "outputs": [
    {
     "data": {
      "text/plain": [
       "11.311111111111108"
      ]
     },
     "execution_count": 18,
     "metadata": {},
     "output_type": "execute_result"
    }
   ],
   "source": [
    "from sklearn.metrics import mean_squared_error\n",
    "MSE_naive = mean_squared_error(test, df_rat_pred)\n",
    "MSE_naive"
   ]
  },
  {
   "cell_type": "markdown",
   "metadata": {},
   "source": [
    "MSE is 11.31 But to show you power of a flextape I will: calculated it muself: for each movie I have calculated the square difference betwen actual and predicted value, and then took mean of these squared values"
   ]
  },
  {
   "cell_type": "code",
   "execution_count": 19,
   "metadata": {},
   "outputs": [
    {
     "data": {
      "text/plain": [
       "11.314756"
      ]
     },
     "execution_count": 19,
     "metadata": {},
     "output_type": "execute_result"
    }
   ],
   "source": [
    "((1-0.666)**2+(5-0.666)**2+(5-0.666)**2+(1-0.666)**2+(5-0.666)**2)/5"
   ]
  },
  {
   "cell_type": "markdown",
   "metadata": {},
   "source": [
    "Baseline prediction:\n",
    "is based on data condotions:\n",
    "\n",
    "So for each user I have calculated mean, substracted it from general mean, and I use this value to predict rating for a new movie"
   ]
  },
  {
   "cell_type": "code",
   "execution_count": 20,
   "metadata": {},
   "outputs": [
    {
     "data": {
      "text/html": [
       "<div>\n",
       "<style scoped>\n",
       "    .dataframe tbody tr th:only-of-type {\n",
       "        vertical-align: middle;\n",
       "    }\n",
       "\n",
       "    .dataframe tbody tr th {\n",
       "        vertical-align: top;\n",
       "    }\n",
       "\n",
       "    .dataframe thead th {\n",
       "        text-align: right;\n",
       "    }\n",
       "</style>\n",
       "<table border=\"1\" class=\"dataframe\">\n",
       "  <thead>\n",
       "    <tr style=\"text-align: right;\">\n",
       "      <th></th>\n",
       "      <th>U1</th>\n",
       "      <th>U2</th>\n",
       "      <th>U3</th>\n",
       "      <th>U4</th>\n",
       "      <th>U5</th>\n",
       "    </tr>\n",
       "  </thead>\n",
       "  <tbody>\n",
       "    <tr>\n",
       "      <th>U5</th>\n",
       "      <td>3.0</td>\n",
       "      <td>1.666667</td>\n",
       "      <td>1.666667</td>\n",
       "      <td>3.0</td>\n",
       "      <td>0.0</td>\n",
       "    </tr>\n",
       "  </tbody>\n",
       "</table>\n",
       "</div>"
      ],
      "text/plain": [
       "     U1        U2        U3   U4   U5\n",
       "U5  3.0  1.666667  1.666667  3.0  0.0"
      ]
     },
     "execution_count": 20,
     "metadata": {},
     "output_type": "execute_result"
    }
   ],
   "source": [
    "data = {'U1':train[\"U1\"].mean()-train.mean(), 'U2':train[\"U2\"].mean()-train.mean(), 'U3':train[\"U3\"].mean()-train.mean(), 'U4':train[\"U4\"].mean()-train.mean(), 'U5':train[\"U5\"].mean()-train.mean()} \n",
    "    \n",
    "# Creates pandas DataFrame. \n",
    "df_rat_pred_base = pd.DataFrame(data, index =['U5']) \n",
    "df_rat_pred_base"
   ]
  },
  {
   "cell_type": "code",
   "execution_count": 21,
   "metadata": {},
   "outputs": [
    {
     "data": {
      "text/plain": [
       "11.044444444444443"
      ]
     },
     "execution_count": 21,
     "metadata": {},
     "output_type": "execute_result"
    }
   ],
   "source": [
    "MSE_Base = mean_squared_error(test, df_rat_pred_base)\n",
    "MSE_Base"
   ]
  },
  {
   "cell_type": "code",
   "execution_count": 22,
   "metadata": {},
   "outputs": [
    {
     "data": {
      "text/plain": [
       "11.0462224"
      ]
     },
     "execution_count": 22,
     "metadata": {},
     "output_type": "execute_result"
    }
   ],
   "source": [
    "((1-3)**2+(5-1.666)**2+(5-1.666)**2+(1-3)**2+(5-0)**2)/5"
   ]
  },
  {
   "cell_type": "markdown",
   "metadata": {},
   "source": [
    "Difference between MSE"
   ]
  },
  {
   "cell_type": "code",
   "execution_count": 23,
   "metadata": {},
   "outputs": [
    {
     "data": {
      "text/plain": [
       "-0.2666666666666657"
      ]
     },
     "execution_count": 23,
     "metadata": {},
     "output_type": "execute_result"
    }
   ],
   "source": [
    "MSE_Base - MSE_naive"
   ]
  },
  {
   "cell_type": "markdown",
   "metadata": {},
   "source": [
    "So naive model looks better (by 0.26 squared points), than baseline, but we could be sure, until statistical test"
   ]
  }
 ],
 "metadata": {
  "kernelspec": {
   "display_name": "Python 3",
   "language": "python",
   "name": "python3"
  },
  "language_info": {
   "codemirror_mode": {
    "name": "ipython",
    "version": 3
   },
   "file_extension": ".py",
   "mimetype": "text/x-python",
   "name": "python",
   "nbconvert_exporter": "python",
   "pygments_lexer": "ipython3",
   "version": "3.7.3"
  }
 },
 "nbformat": 4,
 "nbformat_minor": 4
}
